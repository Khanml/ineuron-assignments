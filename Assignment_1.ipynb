{
 "cells": [
  {
   "cell_type": "code",
   "execution_count": 1,
   "metadata": {},
   "outputs": [
    {
     "name": "stdout",
     "output_type": "stream",
     "text": [
      "[2002, 2009, 2016, 2023, 2037, 2044, 2051, 2058, 2072, 2079, 2086, 2093, 2107, 2114, 2121, 2128, 2142, 2149, 2156, 2163, 2177, 2184, 2191, 2198, 2212, 2219, 2226, 2233, 2247, 2254, 2261, 2268, 2282, 2289, 2296, 2303, 2317, 2324, 2331, 2338, 2352, 2359, 2366, 2373, 2387, 2394, 2401, 2408, 2422, 2429, 2436, 2443, 2457, 2464, 2471, 2478, 2492, 2499, 2506, 2513, 2527, 2534, 2541, 2548, 2562, 2569, 2576, 2583, 2597, 2604, 2611, 2618, 2632, 2639, 2646, 2653, 2667, 2674, 2681, 2688, 2702, 2709, 2716, 2723, 2737, 2744, 2751, 2758, 2772, 2779, 2786, 2793, 2807, 2814, 2821, 2828, 2842, 2849, 2856, 2863, 2877, 2884, 2891, 2898, 2912, 2919, 2926, 2933, 2947, 2954, 2961, 2968, 2982, 2989, 2996, 3003, 3017, 3024, 3031, 3038, 3052, 3059, 3066, 3073, 3087, 3094, 3101, 3108, 3122, 3129, 3136, 3143, 3157, 3164, 3171, 3178, 3192, 3199]\n"
     ]
    }
   ],
   "source": [
    "# 1. numbers between 2000 and 3200 that are divisible by 7 but are not multiples of 5\n",
    "div_by_7 = []\n",
    "\n",
    "for number in range(2000, 3201):\n",
    "    if number % 7 == 0:\n",
    "        if number % 5 != 0:\n",
    "            div_by_7.append(number)\n",
    "print(div_by_7)"
   ]
  },
  {
   "cell_type": "code",
   "execution_count": 2,
   "metadata": {},
   "outputs": [
    {
     "name": "stdout",
     "output_type": "stream",
     "text": [
      "Please enter your first name: John\n",
      "Please enter your last name: Doe\n",
      "Your full name in the reverse order is  Doe John\n"
     ]
    }
   ],
   "source": [
    "# 2. Accept first and last name and print in reverse order\n",
    "f_name = input(\"Please enter your first name: \")\n",
    "l_name = input(\"Please enter your last name: \")\n",
    "\n",
    "full_name = f\"{l_name} {f_name}\"\n",
    "\n",
    "print(\"Your full name in the reverse order is \", full_name)"
   ]
  },
  {
   "cell_type": "code",
   "execution_count": 3,
   "metadata": {},
   "outputs": [
    {
     "name": "stdout",
     "output_type": "stream",
     "text": [
      "The volume of sphere with diameter 12 is 904.3199999999999\n"
     ]
    }
   ],
   "source": [
    "# 3. Volume of sphere with diameter 12 cm\n",
    "diameter = 12\n",
    "radius = diameter / 2\n",
    "\n",
    "vol_of_sphere = 4 / 3 * 3.14 * pow(radius, 3)\n",
    "print(f\"The volume of sphere with diameter 12 is {vol_of_sphere}\")"
   ]
  },
  {
   "cell_type": "code",
   "execution_count": 4,
   "metadata": {},
   "outputs": [
    {
     "name": "stdout",
     "output_type": "stream",
     "text": [
      "please enter a sequence of comma separated numbers without spaces: 1,2,3,4,5\n",
      "The list form of the sequence of numbers you supplied is: ['1', '2', '3', '4', '5']\n"
     ]
    }
   ],
   "source": [
    "# 4. Accept comma separated numbers and generate a list\n",
    "output_list = []\n",
    "seq_of_nos = input(\n",
    "    \"please enter a sequence of comma separated numbers without spaces: \"\n",
    ")\n",
    "\n",
    "for number in seq_of_nos.split(\",\"):\n",
    "    output_list.append(number)\n",
    "\n",
    "print(f\"The list form of the sequence of numbers you supplied is: {output_list}\")"
   ]
  },
  {
   "cell_type": "code",
   "execution_count": 5,
   "metadata": {
    "scrolled": true
   },
   "outputs": [
    {
     "name": "stdout",
     "output_type": "stream",
     "text": [
      "* \n",
      "* * \n",
      "* * * \n",
      "* * * * \n",
      "* * * * * \n",
      "* * * * \n",
      "* * * \n",
      "* * \n",
      "* \n"
     ]
    }
   ],
   "source": [
    "# 5. Create the pattern using nested for loop in Python\n",
    "for i in range(0, 5):\n",
    "    for j in range(0, i + 1):\n",
    "        print(\"* \", end=\"\")\n",
    "    print()\n",
    "\n",
    "for i in range(0, 4):\n",
    "    for j in range(4, i, -1):\n",
    "        print(\"* \", end=\"\")\n",
    "    print()\n"
   ]
  },
  {
   "cell_type": "code",
   "execution_count": 8,
   "metadata": {},
   "outputs": [
    {
     "name": "stdout",
     "output_type": "stream",
     "text": [
      "Enter a word: Wikipedia\n",
      " The reverse of Wikipedia is aidepikiW\n"
     ]
    }
   ],
   "source": [
    "# 6. program to accept a word from user and reverse it\n",
    "\n",
    "\n",
    "def reverse(word):\n",
    "    \"\"\"function to return reverse of a word\"\"\"\n",
    "    str = \"\"\n",
    "    for i in word:\n",
    "        str = i + str\n",
    "    return str\n",
    "\n",
    "\n",
    "word = input(\"Enter a word: \")\n",
    "reverse = reverse(word)\n",
    "print(f\" The reverse of {word} is {reverse}\")"
   ]
  },
  {
   "cell_type": "code",
   "execution_count": 9,
   "metadata": {},
   "outputs": [
    {
     "name": "stdout",
     "output_type": "stream",
     "text": [
      "WE, THE PEOPLE OF INDIA,\n",
      "\thaving solemnly resolved to constitute India into a SOVEREIGN, !\n",
      "\t\t SOCIALIST, SECULAR, DEMOCRATIC REPUBLIC\n",
      "\t\t and to secure to all its citizens\n"
     ]
    }
   ],
   "source": [
    "# 7. print the following string in the given format\n",
    "string1 = \"WE, THE PEOPLE OF INDIA,\\n\\thaving solemnly resolved to constitute India into a SOVEREIGN, !\\n\\t\\t SOCIALIST, SECULAR, DEMOCRATIC REPUBLIC\\n\\t\\t and to secure to all its citizens\"\n",
    "\n",
    "print(string1)"
   ]
  },
  {
   "cell_type": "code",
   "execution_count": null,
   "metadata": {},
   "outputs": [],
   "source": []
  }
 ],
 "metadata": {
  "kernelspec": {
   "display_name": "Python 3",
   "language": "python",
   "name": "python3"
  },
  "language_info": {
   "codemirror_mode": {
    "name": "ipython",
    "version": 3
   },
   "file_extension": ".py",
   "mimetype": "text/x-python",
   "name": "python",
   "nbconvert_exporter": "python",
   "pygments_lexer": "ipython3",
   "version": "3.7.4"
  }
 },
 "nbformat": 4,
 "nbformat_minor": 2
}
